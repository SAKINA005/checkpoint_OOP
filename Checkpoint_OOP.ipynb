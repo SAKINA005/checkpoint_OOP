{
 "cells": [
  {
   "cell_type": "markdown",
   "metadata": {},
   "source": [
    "1. Write a Python class named Point3D defined by x, y, and z. Define a method that returns (x, y ,z). This tells Python to represent this object in the following format: (x, y, Then create a variable named my_point containing a new instance of Point3D with x=1, y=2, and z=3 and print it."
   ]
  },
  {
   "cell_type": "code",
   "execution_count": 1,
   "metadata": {},
   "outputs": [
    {
     "name": "stdout",
     "output_type": "stream",
     "text": [
      "(1, 2, 3)\n"
     ]
    }
   ],
   "source": [
    "class Point3D:\n",
    "    def __init__(self,x,y,z):\n",
    "        self.x = x\n",
    "        self.y = y\n",
    "        self.z = z\n",
    "    def triplet(self):\n",
    "        return (self.x,self.y,self.z)\n",
    "my_point=Point3D(1,2,3)\n",
    "print(my_point.triplet())\n",
    "        \n",
    "        "
   ]
  },
  {
   "cell_type": "markdown",
   "metadata": {},
   "source": [
    "2. Write a Python class named Rectangle constructed by a length and width. Define two methods, area and perimeter, which will compute the area and the perimeter of the rectangle. .Then create a variable named my_rectangle containing a new instance of Rectangle with width=3 and length = 4 and compute both area and perimeter ( the area is expected to be 3*4=12 and perimeter 2*(3+4)=14)."
   ]
  },
  {
   "cell_type": "code",
   "execution_count": 2,
   "metadata": {},
   "outputs": [
    {
     "name": "stdout",
     "output_type": "stream",
     "text": [
      "The perimeter of the rectangle is 18 \n",
      "The area of the rectangle is 20 \n"
     ]
    }
   ],
   "source": [
    "class Rectangle:\n",
    "    def __init__(self,length,width):\n",
    "        self.length=length\n",
    "        self.width=width\n",
    "    def perimeter(self):\n",
    "        return f\"The perimeter of the rectangle is {(self.length+self.width)*2} \"\n",
    "    def area(self):\n",
    "        return f\"The area of the rectangle is {self.length*self.width} \"\n",
    "my_rectangle=Rectangle(5,4)\n",
    "print(my_rectangle.perimeter())\n",
    "print(my_rectangle.area())\n"
   ]
  },
  {
   "cell_type": "markdown",
   "metadata": {},
   "source": [
    "3. Write a Python  class named Circle constructed by its center O and radius r. Define two methods, area and perimeter, which will compute the area and the perimeter of the circle, and is Inside() method which allows you to test whether a point A(x, y) belongs to the circle C(O, r) or not."
   ]
  },
  {
   "cell_type": "code",
   "execution_count": 1,
   "metadata": {},
   "outputs": [
    {
     "name": "stdout",
     "output_type": "stream",
     "text": [
      "The perimeter of the circle is 25.132741228718345 \n",
      "The area of the circle is 50.26548245743669 \n",
      "Le point d'abscisse 9 et d'ordonnées 3 n'appartient pas au cercle\n"
     ]
    }
   ],
   "source": [
    "from math import pi,sqrt\n",
    "class Circle:\n",
    "    def __init__(self,center,radius):\n",
    "        self.center=center\n",
    "        self.radius=radius\n",
    "    def perimeter(self):\n",
    "        return f\"The perimeter of the circle is {(self.radius*2)*pi} \"\n",
    "    def area(self):\n",
    "        return f\"The area of the circle is {pi*self.radius**2} \"\n",
    "    def is_Inside(self,x,y):\n",
    "        distance=sqrt((x-self.center)**2 + (y-self.center)**2)\n",
    "        if distance <= self.radius:\n",
    "            return f\"Le point d'abscisse {x} et d'ordonnées {y} appartient au cercle\"\n",
    "        else:\n",
    "            return f\"Le point d'abscisse {x} et d'ordonnées {y} n'appartient pas au cercle\"\n",
    "        \n",
    "my_circle=Circle(0,4)\n",
    "print(my_circle.perimeter())\n",
    "print(my_circle.area())\n",
    "my_point=Circle(1,2)\n",
    "print(my_point.is_Inside(9,3))\n",
    "        "
   ]
  },
  {
   "cell_type": "markdown",
   "metadata": {},
   "source": [
    "4. Suppose we want to model a bank account with support for deposit and withdraw operations. Let’s create a Python class named Bank defined by its balance. Define two methods, deposit and withdraw, to compute the new amount of each operation."
   ]
  },
  {
   "cell_type": "code",
   "execution_count": 10,
   "metadata": {},
   "outputs": [
    {
     "data": {
      "text/plain": [
       "\"YOU've SUCCESSFULLY WITHDRAWED 40000. THE NEW AMOUNT IN YOUR ACCOUNT IS 0\""
      ]
     },
     "execution_count": 10,
     "metadata": {},
     "output_type": "execute_result"
    }
   ],
   "source": [
    "class Bank:\n",
    "    def __init__(self,balance):\n",
    "        self.balance=balance\n",
    "    def deposit(self,deposit_amount):\n",
    "        return f\"YOU've SUCCESSFULLY DEPOSITED {deposit_amount}\\nTHE NEW AMOUNT IN YOUR ACCOUNT IS {self.balance+deposit_amount}\"\n",
    "    def withdraw(self,withdraw_amount):\n",
    "        if withdraw_amount>self.balance:\n",
    "            return \"YOU CAN'T WITHDRAW THIS AMOUNT. YOU DON'T HAVE ENOUGH IN YOUR ACCOUNT\"\n",
    "        elif withdraw_amount==self.balance:\n",
    "            my_choice=input(\"ARE YOU SURE TO WANT TO WITHDRAW ALL YOUR ACCOUNT'S BALANCE YES/ NO\").lower()\n",
    "            if my_choice==\"yes\":\n",
    "                return f\"YOU've SUCCESSFULLY WITHDRAWED {withdraw_amount}. THE NEW AMOUNT IN YOUR ACCOUNT IS {self.balance-withdraw_amount}\"\n",
    "            else:\n",
    "                return \"WITHDRAWAL CANCELLED\"\n",
    "        else:\n",
    "            return f\"YOU'VE SUCCESSFULLY WITHDRAWED {withdraw_amount}. THE NEW AMOUNT IN YOUR ACCOUNT IS {self.balance-withdraw_amount}\"\n",
    "my_account=Bank(40000)\n",
    "my_account.withdraw(40000)\n"
   ]
  }
 ],
 "metadata": {
  "kernelspec": {
   "display_name": "Python 3",
   "language": "python",
   "name": "python3"
  },
  "language_info": {
   "codemirror_mode": {
    "name": "ipython",
    "version": 3
   },
   "file_extension": ".py",
   "mimetype": "text/x-python",
   "name": "python",
   "nbconvert_exporter": "python",
   "pygments_lexer": "ipython3",
   "version": "3.11.9"
  }
 },
 "nbformat": 4,
 "nbformat_minor": 2
}
